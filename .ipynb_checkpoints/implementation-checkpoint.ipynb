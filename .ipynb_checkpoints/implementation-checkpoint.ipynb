{
 "cells": [
  {
   "cell_type": "code",
   "execution_count": 1,
   "id": "23cbba17-a1cd-449e-9b5d-25c88d4f7868",
   "metadata": {},
   "outputs": [],
   "source": [
    "import pandas as pd\n",
    "import numpy as np\n",
    "import matplotlib.pyplot as plt\n",
    "from scipy.spatial.distance import mahalanobis\n",
    "import networkx as nx\n",
    "from pulp import LpMinimize, LpProblem, LpVariable, lpSum"
   ]
  },
  {
   "cell_type": "markdown",
   "id": "b83b0fa3-6e83-40b9-8488-d45e1d8a64ae",
   "metadata": {},
   "source": [
    "# Loading the Data"
   ]
  },
  {
   "cell_type": "code",
   "execution_count": 2,
   "id": "d1af71f3-b8ad-4995-a39d-9d0f44b823c0",
   "metadata": {},
   "outputs": [],
   "source": [
    "baseline = pd.read_csv('baseline_dataset.csv')\n",
    "evaluations = pd.read_csv('evaluations_dataset.csv')"
   ]
  },
  {
   "cell_type": "code",
   "execution_count": 3,
   "id": "c27a4952-b694-438f-b214-efb2302c0055",
   "metadata": {},
   "outputs": [
    {
     "data": {
      "text/html": [
       "<div>\n",
       "<style scoped>\n",
       "    .dataframe tbody tr th:only-of-type {\n",
       "        vertical-align: middle;\n",
       "    }\n",
       "\n",
       "    .dataframe tbody tr th {\n",
       "        vertical-align: top;\n",
       "    }\n",
       "\n",
       "    .dataframe thead th {\n",
       "        text-align: right;\n",
       "    }\n",
       "</style>\n",
       "<table border=\"1\" class=\"dataframe\">\n",
       "  <thead>\n",
       "    <tr style=\"text-align: right;\">\n",
       "      <th></th>\n",
       "      <th>patient_id</th>\n",
       "      <th>pain_b</th>\n",
       "      <th>urgency_b</th>\n",
       "      <th>frequency_b</th>\n",
       "    </tr>\n",
       "  </thead>\n",
       "  <tbody>\n",
       "    <tr>\n",
       "      <th>0</th>\n",
       "      <td>0</td>\n",
       "      <td>9</td>\n",
       "      <td>2</td>\n",
       "      <td>7</td>\n",
       "    </tr>\n",
       "    <tr>\n",
       "      <th>1</th>\n",
       "      <td>1</td>\n",
       "      <td>8</td>\n",
       "      <td>3</td>\n",
       "      <td>3</td>\n",
       "    </tr>\n",
       "    <tr>\n",
       "      <th>2</th>\n",
       "      <td>2</td>\n",
       "      <td>4</td>\n",
       "      <td>3</td>\n",
       "      <td>8</td>\n",
       "    </tr>\n",
       "    <tr>\n",
       "      <th>3</th>\n",
       "      <td>3</td>\n",
       "      <td>0</td>\n",
       "      <td>9</td>\n",
       "      <td>0</td>\n",
       "    </tr>\n",
       "    <tr>\n",
       "      <th>4</th>\n",
       "      <td>4</td>\n",
       "      <td>0</td>\n",
       "      <td>9</td>\n",
       "      <td>5</td>\n",
       "    </tr>\n",
       "  </tbody>\n",
       "</table>\n",
       "</div>"
      ],
      "text/plain": [
       "   patient_id  pain_b  urgency_b  frequency_b\n",
       "0           0       9          2            7\n",
       "1           1       8          3            3\n",
       "2           2       4          3            8\n",
       "3           3       0          9            0\n",
       "4           4       0          9            5"
      ]
     },
     "execution_count": 3,
     "metadata": {},
     "output_type": "execute_result"
    }
   ],
   "source": [
    "baseline.head()"
   ]
  },
  {
   "cell_type": "code",
   "execution_count": 4,
   "id": "df847f9a-75b7-4588-b856-0d8e502a9475",
   "metadata": {},
   "outputs": [
    {
     "name": "stdout",
     "output_type": "stream",
     "text": [
      "Sum (NULL):  patient_id             0\n",
      "pain                   0\n",
      "urgency                0\n",
      "frequency              0\n",
      "time_since_entry       0\n",
      "time_treated        1572\n",
      "treated                0\n",
      "dtype: int64\n"
     ]
    },
    {
     "data": {
      "text/html": [
       "<div>\n",
       "<style scoped>\n",
       "    .dataframe tbody tr th:only-of-type {\n",
       "        vertical-align: middle;\n",
       "    }\n",
       "\n",
       "    .dataframe tbody tr th {\n",
       "        vertical-align: top;\n",
       "    }\n",
       "\n",
       "    .dataframe thead th {\n",
       "        text-align: right;\n",
       "    }\n",
       "</style>\n",
       "<table border=\"1\" class=\"dataframe\">\n",
       "  <thead>\n",
       "    <tr style=\"text-align: right;\">\n",
       "      <th></th>\n",
       "      <th>patient_id</th>\n",
       "      <th>pain</th>\n",
       "      <th>urgency</th>\n",
       "      <th>frequency</th>\n",
       "      <th>time_since_entry</th>\n",
       "      <th>time_treated</th>\n",
       "      <th>treated</th>\n",
       "    </tr>\n",
       "  </thead>\n",
       "  <tbody>\n",
       "    <tr>\n",
       "      <th>0</th>\n",
       "      <td>0</td>\n",
       "      <td>7</td>\n",
       "      <td>8</td>\n",
       "      <td>2</td>\n",
       "      <td>3</td>\n",
       "      <td>NaN</td>\n",
       "      <td>False</td>\n",
       "    </tr>\n",
       "    <tr>\n",
       "      <th>1</th>\n",
       "      <td>0</td>\n",
       "      <td>2</td>\n",
       "      <td>8</td>\n",
       "      <td>8</td>\n",
       "      <td>6</td>\n",
       "      <td>NaN</td>\n",
       "      <td>False</td>\n",
       "    </tr>\n",
       "    <tr>\n",
       "      <th>2</th>\n",
       "      <td>0</td>\n",
       "      <td>0</td>\n",
       "      <td>7</td>\n",
       "      <td>9</td>\n",
       "      <td>9</td>\n",
       "      <td>NaN</td>\n",
       "      <td>False</td>\n",
       "    </tr>\n",
       "    <tr>\n",
       "      <th>3</th>\n",
       "      <td>0</td>\n",
       "      <td>0</td>\n",
       "      <td>4</td>\n",
       "      <td>7</td>\n",
       "      <td>12</td>\n",
       "      <td>NaN</td>\n",
       "      <td>False</td>\n",
       "    </tr>\n",
       "    <tr>\n",
       "      <th>4</th>\n",
       "      <td>0</td>\n",
       "      <td>8</td>\n",
       "      <td>5</td>\n",
       "      <td>4</td>\n",
       "      <td>15</td>\n",
       "      <td>NaN</td>\n",
       "      <td>False</td>\n",
       "    </tr>\n",
       "  </tbody>\n",
       "</table>\n",
       "</div>"
      ],
      "text/plain": [
       "   patient_id  pain  urgency  frequency  time_since_entry  time_treated  \\\n",
       "0           0     7        8          2                 3           NaN   \n",
       "1           0     2        8          8                 6           NaN   \n",
       "2           0     0        7          9                 9           NaN   \n",
       "3           0     0        4          7                12           NaN   \n",
       "4           0     8        5          4                15           NaN   \n",
       "\n",
       "   treated  \n",
       "0    False  \n",
       "1    False  \n",
       "2    False  \n",
       "3    False  \n",
       "4    False  "
      ]
     },
     "execution_count": 4,
     "metadata": {},
     "output_type": "execute_result"
    }
   ],
   "source": [
    "print(\"Sum (NULL): \", evaluations.isnull().sum())\n",
    "evaluations.head()"
   ]
  },
  {
   "cell_type": "code",
   "execution_count": 5,
   "id": "4ede7efd-c0b4-40dd-be8c-6ae6de362674",
   "metadata": {},
   "outputs": [
    {
     "data": {
      "text/html": [
       "<div>\n",
       "<style scoped>\n",
       "    .dataframe tbody tr th:only-of-type {\n",
       "        vertical-align: middle;\n",
       "    }\n",
       "\n",
       "    .dataframe tbody tr th {\n",
       "        vertical-align: top;\n",
       "    }\n",
       "\n",
       "    .dataframe thead th {\n",
       "        text-align: right;\n",
       "    }\n",
       "</style>\n",
       "<table border=\"1\" class=\"dataframe\">\n",
       "  <thead>\n",
       "    <tr style=\"text-align: right;\">\n",
       "      <th></th>\n",
       "      <th>patient_id</th>\n",
       "      <th>pain</th>\n",
       "      <th>urgency</th>\n",
       "      <th>frequency</th>\n",
       "      <th>time_since_entry</th>\n",
       "      <th>time_treated</th>\n",
       "      <th>treated</th>\n",
       "    </tr>\n",
       "  </thead>\n",
       "  <tbody>\n",
       "    <tr>\n",
       "      <th>0</th>\n",
       "      <td>0</td>\n",
       "      <td>7</td>\n",
       "      <td>8</td>\n",
       "      <td>2</td>\n",
       "      <td>3</td>\n",
       "      <td>0</td>\n",
       "      <td>False</td>\n",
       "    </tr>\n",
       "    <tr>\n",
       "      <th>1</th>\n",
       "      <td>0</td>\n",
       "      <td>2</td>\n",
       "      <td>8</td>\n",
       "      <td>8</td>\n",
       "      <td>6</td>\n",
       "      <td>0</td>\n",
       "      <td>False</td>\n",
       "    </tr>\n",
       "    <tr>\n",
       "      <th>2</th>\n",
       "      <td>0</td>\n",
       "      <td>0</td>\n",
       "      <td>7</td>\n",
       "      <td>9</td>\n",
       "      <td>9</td>\n",
       "      <td>0</td>\n",
       "      <td>False</td>\n",
       "    </tr>\n",
       "    <tr>\n",
       "      <th>3</th>\n",
       "      <td>0</td>\n",
       "      <td>0</td>\n",
       "      <td>4</td>\n",
       "      <td>7</td>\n",
       "      <td>12</td>\n",
       "      <td>0</td>\n",
       "      <td>False</td>\n",
       "    </tr>\n",
       "    <tr>\n",
       "      <th>4</th>\n",
       "      <td>0</td>\n",
       "      <td>8</td>\n",
       "      <td>5</td>\n",
       "      <td>4</td>\n",
       "      <td>15</td>\n",
       "      <td>0</td>\n",
       "      <td>False</td>\n",
       "    </tr>\n",
       "  </tbody>\n",
       "</table>\n",
       "</div>"
      ],
      "text/plain": [
       "   patient_id  pain  urgency  frequency  time_since_entry  time_treated  \\\n",
       "0           0     7        8          2                 3             0   \n",
       "1           0     2        8          8                 6             0   \n",
       "2           0     0        7          9                 9             0   \n",
       "3           0     0        4          7                12             0   \n",
       "4           0     8        5          4                15             0   \n",
       "\n",
       "   treated  \n",
       "0    False  \n",
       "1    False  \n",
       "2    False  \n",
       "3    False  \n",
       "4    False  "
      ]
     },
     "execution_count": 5,
     "metadata": {},
     "output_type": "execute_result"
    }
   ],
   "source": [
    "# Cleaning\n",
    "evaluations['time_treated'] = evaluations['time_treated'].fillna(0).astype(int)\n",
    "\n",
    "evaluations.head()"
   ]
  },
  {
   "cell_type": "code",
   "execution_count": 6,
   "id": "4fbd1697-7bc4-487b-9b65-e7470e6a8d23",
   "metadata": {},
   "outputs": [
    {
     "data": {
      "text/html": [
       "<div>\n",
       "<style scoped>\n",
       "    .dataframe tbody tr th:only-of-type {\n",
       "        vertical-align: middle;\n",
       "    }\n",
       "\n",
       "    .dataframe tbody tr th {\n",
       "        vertical-align: top;\n",
       "    }\n",
       "\n",
       "    .dataframe thead th {\n",
       "        text-align: right;\n",
       "    }\n",
       "</style>\n",
       "<table border=\"1\" class=\"dataframe\">\n",
       "  <thead>\n",
       "    <tr style=\"text-align: right;\">\n",
       "      <th></th>\n",
       "      <th>pain</th>\n",
       "      <th>urgency</th>\n",
       "      <th>frequency</th>\n",
       "    </tr>\n",
       "  </thead>\n",
       "  <tbody>\n",
       "    <tr>\n",
       "      <th>count</th>\n",
       "      <td>3200.00</td>\n",
       "      <td>3200.00</td>\n",
       "      <td>3200.00</td>\n",
       "    </tr>\n",
       "    <tr>\n",
       "      <th>mean</th>\n",
       "      <td>4.52</td>\n",
       "      <td>4.56</td>\n",
       "      <td>4.51</td>\n",
       "    </tr>\n",
       "    <tr>\n",
       "      <th>std</th>\n",
       "      <td>2.89</td>\n",
       "      <td>2.80</td>\n",
       "      <td>2.92</td>\n",
       "    </tr>\n",
       "    <tr>\n",
       "      <th>min</th>\n",
       "      <td>0.00</td>\n",
       "      <td>0.00</td>\n",
       "      <td>0.00</td>\n",
       "    </tr>\n",
       "    <tr>\n",
       "      <th>25%</th>\n",
       "      <td>2.00</td>\n",
       "      <td>2.00</td>\n",
       "      <td>2.00</td>\n",
       "    </tr>\n",
       "    <tr>\n",
       "      <th>50%</th>\n",
       "      <td>5.00</td>\n",
       "      <td>5.00</td>\n",
       "      <td>5.00</td>\n",
       "    </tr>\n",
       "    <tr>\n",
       "      <th>75%</th>\n",
       "      <td>7.00</td>\n",
       "      <td>7.00</td>\n",
       "      <td>7.00</td>\n",
       "    </tr>\n",
       "    <tr>\n",
       "      <th>max</th>\n",
       "      <td>9.00</td>\n",
       "      <td>9.00</td>\n",
       "      <td>9.00</td>\n",
       "    </tr>\n",
       "  </tbody>\n",
       "</table>\n",
       "</div>"
      ],
      "text/plain": [
       "          pain  urgency  frequency\n",
       "count  3200.00  3200.00    3200.00\n",
       "mean      4.52     4.56       4.51\n",
       "std       2.89     2.80       2.92\n",
       "min       0.00     0.00       0.00\n",
       "25%       2.00     2.00       2.00\n",
       "50%       5.00     5.00       5.00\n",
       "75%       7.00     7.00       7.00\n",
       "max       9.00     9.00       9.00"
      ]
     },
     "execution_count": 6,
     "metadata": {},
     "output_type": "execute_result"
    }
   ],
   "source": [
    "evaluations[['pain', 'urgency', 'frequency']].describe().round(2)"
   ]
  },
  {
   "cell_type": "markdown",
   "id": "ba975edf-cecc-4ea8-a050-acb56ca18db7",
   "metadata": {},
   "source": [
    "# Construct Risk Set"
   ]
  },
  {
   "cell_type": "code",
   "execution_count": 7,
   "id": "f8f3d80e-08e5-4c17-8b75-e6960320853d",
   "metadata": {},
   "outputs": [
    {
     "data": {
      "text/html": [
       "<div>\n",
       "<style scoped>\n",
       "    .dataframe tbody tr th:only-of-type {\n",
       "        vertical-align: middle;\n",
       "    }\n",
       "\n",
       "    .dataframe tbody tr th {\n",
       "        vertical-align: top;\n",
       "    }\n",
       "\n",
       "    .dataframe thead th {\n",
       "        text-align: right;\n",
       "    }\n",
       "</style>\n",
       "<table border=\"1\" class=\"dataframe\">\n",
       "  <thead>\n",
       "    <tr style=\"text-align: right;\">\n",
       "      <th></th>\n",
       "      <th>patient_id</th>\n",
       "      <th>time_treated</th>\n",
       "    </tr>\n",
       "  </thead>\n",
       "  <tbody>\n",
       "    <tr>\n",
       "      <th>8</th>\n",
       "      <td>0</td>\n",
       "      <td>27</td>\n",
       "    </tr>\n",
       "    <tr>\n",
       "      <th>16</th>\n",
       "      <td>1</td>\n",
       "      <td>3</td>\n",
       "    </tr>\n",
       "    <tr>\n",
       "      <th>45</th>\n",
       "      <td>2</td>\n",
       "      <td>42</td>\n",
       "    </tr>\n",
       "    <tr>\n",
       "      <th>59</th>\n",
       "      <td>3</td>\n",
       "      <td>36</td>\n",
       "    </tr>\n",
       "    <tr>\n",
       "      <th>64</th>\n",
       "      <td>4</td>\n",
       "      <td>3</td>\n",
       "    </tr>\n",
       "  </tbody>\n",
       "</table>\n",
       "</div>"
      ],
      "text/plain": [
       "    patient_id  time_treated\n",
       "8            0            27\n",
       "16           1             3\n",
       "45           2            42\n",
       "59           3            36\n",
       "64           4             3"
      ]
     },
     "execution_count": 7,
     "metadata": {},
     "output_type": "execute_result"
    }
   ],
   "source": [
    "treated_patients = evaluations[evaluations['treated'] == True][['patient_id', 'time_treated']].drop_duplicates(subset='patient_id')\n",
    "treated_patients.head()"
   ]
  },
  {
   "cell_type": "code",
   "execution_count": 8,
   "id": "21361bd4-2a9f-4175-96d6-39481201cea3",
   "metadata": {},
   "outputs": [
    {
     "name": "stdout",
     "output_type": "stream",
     "text": [
      "Treated Patient 0: 27\n",
      "Treated Patient 1: 3\n",
      "Treated Patient 2: 42\n",
      "Treated Patient 3: 36\n",
      "Treated Patient 4: 3\n",
      "Treated Patient 5: 48\n",
      "Treated Patient 6: 12\n",
      "Treated Patient 8: 45\n",
      "Treated Patient 10: 39\n",
      "Treated Patient 11: 24\n",
      "Number of Treated Patients: 189\n"
     ]
    }
   ],
   "source": [
    "for lab, row in treated_patients[:10].iterrows(): # Check the first 10 Treated Patient\n",
    "    print(f\"Treated Patient {row['patient_id']}: {row['time_treated']}\");\n",
    "\n",
    "print(f\"Number of Treated Patients: {len(treated_patients)}\")"
   ]
  },
  {
   "cell_type": "code",
   "execution_count": 9,
   "id": "58a635c7-fc49-474a-a217-507755dc47c9",
   "metadata": {},
   "outputs": [],
   "source": [
    "combined = evaluations.merge(baseline, on='patient_id', how='left')\n",
    "\n",
    "# For treated patients, keep records just before treatment time\n",
    "treated_combined = combined[combined['treated'] == True].copy()\n",
    "treated_combined = treated_combined[treated_combined['time_since_entry'] <= treated_combined['time_treated']]\n",
    "\n",
    "# For untreated controls, keep the latest record\n",
    "controls_combined = combined[combined['treated'] == False].copy()\n",
    "controls_combined = controls_combined.sort_values('time_since_entry').groupby('patient_id').last().reset_index()\n",
    "\n",
    "# Combine both for covariance calculation\n",
    "cov_data = pd.concat([treated_combined, controls_combined])\n",
    "\n",
    "# Select relevant variables\n",
    "symptoms = cov_data[['pain_b', 'urgency_b', 'frequency_b', 'pain', 'urgency', 'frequency']].dropna()\n",
    "\n",
    "# Compute covariance matrix and its inverse\n",
    "cov_matrix = symptoms.cov()\n",
    "inv_cov_matrix = np.linalg.inv(cov_matrix)"
   ]
  },
  {
   "cell_type": "code",
   "execution_count": 10,
   "id": "a5b81d11-7729-40e8-9882-aaac430b355d",
   "metadata": {},
   "outputs": [],
   "source": [
    "# Function to calculate Mahalanobis distance\n",
    "def calculate_mahalanobis(treated_row, control_row):\n",
    "    x = treated_row[['pain_b', 'urgency_b', 'frequency_b', 'pain', 'urgency', 'frequency']].values\n",
    "    y = control_row[['pain_b', 'urgency_b', 'frequency_b', 'pain', 'urgency', 'frequency']].values\n",
    "    return mahalanobis(x, y, inv_cov_matrix)"
   ]
  },
  {
   "cell_type": "code",
   "execution_count": 11,
   "id": "84885ca8-60cf-4cc7-af6b-fbbb60acb70f",
   "metadata": {},
   "outputs": [
    {
     "name": "stdout",
     "output_type": "stream",
     "text": [
      "Treated: 0 (Time 27), Controls: 90, Avg Distance: 3.58\n",
      "Treated: 1 (Time 3), Controls: 186, Avg Distance: 3.17\n",
      "Treated: 2 (Time 42), Controls: 37, Avg Distance: 2.93\n",
      "Treated: 3 (Time 36), Controls: 61, Avg Distance: 3.72\n",
      "Treated: 4 (Time 3), Controls: 186, Avg Distance: 3.64\n",
      "Treated: 5 (Time 48), Controls: 11, Avg Distance: 3.72\n",
      "Treated: 6 (Time 12), Controls: 147, Avg Distance: 3.17\n",
      "Treated: 8 (Time 45), Controls: 19, Avg Distance: 3.90\n",
      "Treated: 10 (Time 39), Controls: 45, Avg Distance: 4.16\n",
      "Treated: 11 (Time 24), Controls: 103, Avg Distance: 3.08\n"
     ]
    }
   ],
   "source": [
    "# Get treated and never treated patients\n",
    "treated_patients = combined[combined['treated'] == True][['patient_id', 'time_treated']].drop_duplicates(subset='patient_id')\n",
    "never_treated = combined[~combined['patient_id'].isin(treated_patients['patient_id'])][['patient_id', 'time_treated']].drop_duplicates(subset='patient_id')\n",
    "\n",
    "all_patients = pd.concat([treated_patients, never_treated])\n",
    "\n",
    "risk_set = []\n",
    "for _, row in treated_patients.iterrows():\n",
    "    treatment_time = row['time_treated']\n",
    "    potential_controls = all_patients[(all_patients['time_treated'] == 0) | (all_patients['time_treated'] > treatment_time)]\n",
    "\n",
    "    # Add symptom data for distance calculation\n",
    "    treated_symptoms = combined[(combined['patient_id'] == row['patient_id'])].iloc[0]\n",
    "    control_data = combined[combined['patient_id'].isin(potential_controls['patient_id'])].sort_values('time_since_entry').groupby('patient_id').last().reset_index()\n",
    "\n",
    "    # Calculate Mahalanobis distance for each control\n",
    "    controls_with_distance = []\n",
    "    for _, control_row in control_data.iterrows():\n",
    "        dist = calculate_mahalanobis(treated_symptoms, control_row)\n",
    "        controls_with_distance.append((control_row['patient_id'], dist))\n",
    "    \n",
    "    risk_set.append({\n",
    "        'treated_id': row['patient_id'],\n",
    "        'treatment_time': treatment_time,\n",
    "        'controls': controls_with_distance,\n",
    "    })\n",
    "\n",
    "# Display first 5 risk sets with control counts and average distances\n",
    "for i in range(10):\n",
    "    controls_info = risk_set[i]['controls']\n",
    "    avg_distance = np.mean([dist for _, dist in controls_info])\n",
    "    print(f\"Treated: {risk_set[i]['treated_id']} (Time {risk_set[i]['treatment_time']}), Controls: {len(controls_info)}, Avg Distance: {avg_distance:.2f}\")"
   ]
  },
  {
   "cell_type": "markdown",
   "id": "61cb578c-8c27-4aaf-ae92-c8ce14a483fe",
   "metadata": {},
   "source": [
    "# Performing Minimum Cost Flow Matching"
   ]
  },
  {
   "cell_type": "code",
   "execution_count": 12,
   "id": "8e0c58ea-edd3-4a76-94b5-6d3db27cb438",
   "metadata": {},
   "outputs": [],
   "source": [
    "# Step 4: Construct the Matching Network\n",
    "G = nx.Graph()  # Changed from DiGraph to Graph\n",
    "\n",
    "# Add nodes for treated patients and controls\n",
    "for entry in risk_set:\n",
    "    treated_id = entry['treated_id']\n",
    "    G.add_node(f\"T_{treated_id}\", bipartite=0)  # Treated node\n",
    "\n",
    "    for control_id, dist in entry['controls']:\n",
    "        G.add_node(f\"C_{control_id}\", bipartite=1)  # Control node\n",
    "        G.add_edge(f\"T_{treated_id}\", f\"C_{control_id}\", weight=dist)  # Edge with Mahalanobis distance\n",
    "\n",
    "# Step 5: Apply Minimum Cost Matching Algorithm\n",
    "treated_nodes = [n for n in G.nodes if n.startswith('T_')]\n",
    "control_nodes = [n for n in G.nodes if n.startswith('C_')]\n",
    "\n",
    "# Perform Minimum Cost Matching\n",
    "matching = nx.algorithms.matching.min_weight_matching(G, weight='weight')"
   ]
  },
  {
   "cell_type": "code",
   "execution_count": 13,
   "id": "867310e6-6892-457c-a43d-5e90ebce1a87",
   "metadata": {},
   "outputs": [
    {
     "name": "stdout",
     "output_type": "stream",
     "text": [
      "Optimal Matching Results (Matches M: 180):\n",
      "Matched: T_65 with C_68 (Mahalanobis Distance: 2.60)\n",
      "Matched: T_136 with C_33 (Mahalanobis Distance: 2.59)\n",
      "Matched: T_167 with C_192 (Mahalanobis Distance: 2.36)\n",
      "Matched: T_173 with C_88 (Mahalanobis Distance: 1.61)\n",
      "Matched: T_54 with C_45 (Mahalanobis Distance: 2.38)\n",
      "Matched: T_61 with C_27 (Mahalanobis Distance: 1.68)\n",
      "Matched: T_52 with C_177 (Mahalanobis Distance: 2.44)\n",
      "Matched: T_182 with C_171 (Mahalanobis Distance: 1.82)\n",
      "Matched: T_71 with C_19 (Mahalanobis Distance: 1.86)\n",
      "Matched: T_181 with C_10 (Mahalanobis Distance: 2.15)\n"
     ]
    }
   ],
   "source": [
    "# Display the matched pairs\n",
    "matching_list = list(matching)\n",
    "\n",
    "print(f\"Optimal Matching Results (Matches M: {len(matching)}):\")\n",
    "for pair in matching_list[:10]:\n",
    "    treated, control = sorted(pair, reverse=True)  # Ensure treated comes first\n",
    "    weight = G[treated][control]['weight']\n",
    "    print(f\"Matched: {treated} with {control} (Mahalanobis Distance: {weight:.2f})\")"
   ]
  },
  {
   "cell_type": "markdown",
   "id": "c3a45d51-6b94-476b-a05a-7f027a9b6c91",
   "metadata": {},
   "source": [
    "# Balanced Risk Set Matching (Integer Programming)"
   ]
  },
  {
   "cell_type": "code",
   "execution_count": 14,
   "id": "17eb1c93-c4bf-41a9-9a35-76d4c9577b1d",
   "metadata": {},
   "outputs": [
    {
     "data": {
      "text/html": [
       "<div>\n",
       "<style scoped>\n",
       "    .dataframe tbody tr th:only-of-type {\n",
       "        vertical-align: middle;\n",
       "    }\n",
       "\n",
       "    .dataframe tbody tr th {\n",
       "        vertical-align: top;\n",
       "    }\n",
       "\n",
       "    .dataframe thead th {\n",
       "        text-align: right;\n",
       "    }\n",
       "</style>\n",
       "<table border=\"1\" class=\"dataframe\">\n",
       "  <thead>\n",
       "    <tr style=\"text-align: right;\">\n",
       "      <th></th>\n",
       "      <th>treated_id</th>\n",
       "      <th>control_id</th>\n",
       "      <th>distance</th>\n",
       "    </tr>\n",
       "  </thead>\n",
       "  <tbody>\n",
       "    <tr>\n",
       "      <th>0</th>\n",
       "      <td>68</td>\n",
       "      <td>65</td>\n",
       "      <td>2.599488</td>\n",
       "    </tr>\n",
       "    <tr>\n",
       "      <th>1</th>\n",
       "      <td>33</td>\n",
       "      <td>136</td>\n",
       "      <td>2.589026</td>\n",
       "    </tr>\n",
       "    <tr>\n",
       "      <th>2</th>\n",
       "      <td>192</td>\n",
       "      <td>167</td>\n",
       "      <td>2.361460</td>\n",
       "    </tr>\n",
       "    <tr>\n",
       "      <th>3</th>\n",
       "      <td>88</td>\n",
       "      <td>173</td>\n",
       "      <td>1.612104</td>\n",
       "    </tr>\n",
       "    <tr>\n",
       "      <th>4</th>\n",
       "      <td>45</td>\n",
       "      <td>54</td>\n",
       "      <td>2.383603</td>\n",
       "    </tr>\n",
       "  </tbody>\n",
       "</table>\n",
       "</div>"
      ],
      "text/plain": [
       "   treated_id  control_id  distance\n",
       "0          68          65  2.599488\n",
       "1          33         136  2.589026\n",
       "2         192         167  2.361460\n",
       "3          88         173  1.612104\n",
       "4          45          54  2.383603"
      ]
     },
     "execution_count": 14,
     "metadata": {},
     "output_type": "execute_result"
    }
   ],
   "source": [
    "# Convert Matching Results into a DataFrame\n",
    "matched_pairs = []\n",
    "for t_node, c_node in matching:\n",
    "    treated_id = int(t_node.split(\"_\")[1])\n",
    "    control_id = int(c_node.split(\"_\")[1])\n",
    "    weight = G[t_node][c_node]['weight']\n",
    "    matched_pairs.append({'treated_id': treated_id, 'control_id': control_id, 'distance': weight})\n",
    "\n",
    "matched_df = pd.DataFrame(matched_pairs)\n",
    "matched_df.head()"
   ]
  },
  {
   "cell_type": "code",
   "execution_count": 15,
   "id": "4a7c56e7-57d3-4631-bdd0-39f66ea722cf",
   "metadata": {},
   "outputs": [],
   "source": [
    "def create_binary_covariates(df, columns, quantiles=[0.33, 0.67]):\n",
    "    \"\"\" Converts continuous variables into binary indicators based on quantiles. \"\"\"\n",
    "    for col in columns:\n",
    "        q_low, q_high = df[col].quantile(quantiles).values  # Get quantile thresholds\n",
    "        \n",
    "        df[f\"{col}_low\"] = (df[col] <= q_low).astype(int)  # Low category\n",
    "        df[f\"{col}_mid\"] = ((df[col] > q_low) & (df[col] <= q_high)).astype(int)  # Mid category\n",
    "        df[f\"{col}_high\"] = (df[col] > q_high).astype(int)  # High category\n",
    "        \n",
    "    return df"
   ]
  },
  {
   "cell_type": "code",
   "execution_count": 16,
   "id": "0c24a36b-47c6-4e0a-b7d3-8bd544fabce5",
   "metadata": {},
   "outputs": [],
   "source": [
    "symptom_cols = ['pain', 'urgency', 'frequency', 'pain_b', 'urgency_b', 'frequency_b']"
   ]
  },
  {
   "cell_type": "code",
   "execution_count": 17,
   "id": "693ef1a7-7b17-4ab2-b7ba-f5e12b729ecd",
   "metadata": {},
   "outputs": [],
   "source": [
    "combined = create_binary_covariates(combined, symptom_cols)\n",
    "binary_symptoms = [f\"{col}_{level}\" for col in symptom_cols for level in [\"low\", \"mid\", \"high\"]]"
   ]
  },
  {
   "cell_type": "code",
   "execution_count": 18,
   "id": "0fc262a0-9546-4672-ae82-32a34accc45d",
   "metadata": {},
   "outputs": [],
   "source": [
    "cov_data = combined[binary_symptoms].dropna()\n",
    "cov_matrix = cov_data.cov()\n",
    "inv_cov_matrix = np.linalg.inv(cov_matrix)\n",
    "\n",
    "def calculate_mahalanobis_binary(row_t, row_c):\n",
    "    x = row_t[binary_symptoms].values\n",
    "    y = row_c[binary_symptoms].values\n",
    "    return mahalanobis(x, y, inv_cov_matrix)"
   ]
  },
  {
   "cell_type": "code",
   "execution_count": 19,
   "id": "09b61b33-005d-4c43-92fa-ec828e38c33f",
   "metadata": {},
   "outputs": [],
   "source": [
    "mah_distances = {}\n",
    "for _, row in matched_df.iterrows():\n",
    "    treated_symptoms = combined[combined['patient_id'] == row['treated_id']].iloc[0]\n",
    "    control_symptoms = combined[combined['patient_id'] == row['control_id']].iloc[0]\n",
    "    mah_distances[(row['treated_id'], row['control_id'])] = calculate_mahalanobis_binary(treated_symptoms, control_symptoms)"
   ]
  },
  {
   "cell_type": "code",
   "execution_count": 20,
   "id": "54717085-27ba-4cec-8b71-051d918eabd0",
   "metadata": {},
   "outputs": [
    {
     "name": "stdout",
     "output_type": "stream",
     "text": [
      "Welcome to the CBC MILP Solver \n",
      "Version: 2.10.3 \n",
      "Build Date: Dec 15 2019 \n",
      "\n",
      "command line - /Users/lichclass/Library/Python/3.9/lib/python/site-packages/pulp/solverdir/cbc/osx/64/cbc /var/folders/dw/jql60w_11xd3gt7hs2xtq9dw0000gn/T/f996d4aed6124374990d32ae8be59534-pulp.mps -timeMode elapsed -branch -printingOptions all -solution /var/folders/dw/jql60w_11xd3gt7hs2xtq9dw0000gn/T/f996d4aed6124374990d32ae8be59534-pulp.sol (default strategy 1)\n",
      "At line 2 NAME          MODEL\n",
      "At line 3 ROWS\n",
      "At line 371 COLUMNS\n",
      "At line 2476 RHS\n",
      "At line 2843 BOUNDS\n",
      "At line 3024 ENDATA\n",
      "Problem MODEL has 366 rows, 186 columns and 1560 elements\n",
      "Coin0008I MODEL read with 0 errors\n",
      "Option for timeMode changed from cpu to elapsed\n",
      "Continuous objective value is 381543 - 0.00 seconds\n",
      "Cgl0000I Cut generators found to be infeasible! (or unbounded)\n",
      "Pre-processing says infeasible or unbounded\n",
      "Option for printingOptions changed from normal to all\n",
      "Total time (CPU seconds):       0.00   (Wallclock seconds):       0.02\n",
      "\n"
     ]
    }
   ],
   "source": [
    "# Define Integer Programming Model\n",
    "model = LpProblem(\"Balanced_Risk_Set_Matching\", LpMinimize)\n",
    "\n",
    "# Define decision variables\n",
    "f = LpVariable.dicts(\"Match\", mah_distances.keys(), cat=\"Binary\")  # Matching variables\n",
    "g_plus = LpVariable.dicts(\"G_Plus\", range(3), lowBound=0, cat=\"Continuous\")  # Balance gaps\n",
    "g_minus = LpVariable.dicts(\"G_Minus\", range(3), lowBound=0, cat=\"Continuous\")  # Balance gaps\n",
    "\n",
    "# Objective Function: Minimize Mahalanobis distance + penalty for imbalance\n",
    "lambda_k = 1000  # Large penalty for imbalance\n",
    "model += lpSum(f[e] * mah_distances[e] for e in mah_distances) + lambda_k * lpSum(g_plus[k] + g_minus[k] for k in range(3))\n",
    "\n",
    "# Constraints\n",
    "\n",
    "# Each treated patient is matched exactly once\n",
    "for t in matched_df['treated_id']:\n",
    "    model += lpSum(f[(t, c)] for c in matched_df['control_id'] if (t, c) in f) == 1\n",
    "\n",
    "# Each control patient is matched at most once\n",
    "for c in matched_df['control_id']:\n",
    "    model += lpSum(f[(t, c)] for t in matched_df['treated_id'] if (t, c) in f) <= 1\n",
    "\n",
    "# Balance Constraints (Simulated binary covariate sums)\n",
    "treated_binary_sums = [3, 2, 4]  # Example binary totals for three covariates\n",
    "control_binary_sums = {k: lpSum(f[e] for e in mah_distances) for k in range(3)}\n",
    "\n",
    "for k in range(3):  # Balance for each covariate\n",
    "    model += treated_binary_sums[k] - control_binary_sums[k] <= g_plus[k]\n",
    "    model += control_binary_sums[k] - treated_binary_sums[k] <= g_minus[k]\n",
    "\n",
    "# Solve the model\n",
    "model.solve()\n",
    "\n",
    "# Extract final matched pairs\n",
    "final_matched_pairs = [(t, c) for (t, c) in mah_distances.keys() if f[(t, c)].varValue == 1]"
   ]
  },
  {
   "cell_type": "code",
   "execution_count": 21,
   "id": "21d3b5a7-4ec8-4bc4-a700-e2e15b075049",
   "metadata": {},
   "outputs": [
    {
     "name": "stdout",
     "output_type": "stream",
     "text": [
      "\n",
      "🔹 Final Balanced Matching Results (Pairs: 94)\n",
      "Treated: 192.0  ↔  Control: 167.0  (Mahalanobis Distance: 4.97)\n",
      "Treated: 88.0  ↔  Control: 173.0  (Mahalanobis Distance: 2.45)\n",
      "Treated: 45.0  ↔  Control: 54.0  (Mahalanobis Distance: 4.41)\n",
      "Treated: 182.0  ↔  Control: 171.0  (Mahalanobis Distance: 3.77)\n",
      "Treated: 19.0  ↔  Control: 71.0  (Mahalanobis Distance: 5.15)\n",
      "Treated: 181.0  ↔  Control: 10.0  (Mahalanobis Distance: 3.37)\n",
      "Treated: 40.0  ↔  Control: 0.0  (Mahalanobis Distance: 4.02)\n",
      "Treated: 172.0  ↔  Control: 86.0  (Mahalanobis Distance: 3.44)\n",
      "Treated: 180.0  ↔  Control: 163.0  (Mahalanobis Distance: 3.61)\n",
      "Treated: 148.0  ↔  Control: 88.0  (Mahalanobis Distance: 4.51)\n"
     ]
    }
   ],
   "source": [
    "# Display Results\n",
    "print(f\"\\n🔹 Final Balanced Matching Results (Pairs: {len(final_matched_pairs)})\")\n",
    "for t, c in final_matched_pairs[:10]:\n",
    "    print(f\"Treated: {t}  ↔  Control: {c}  (Mahalanobis Distance: {mah_distances[(t, c)]:.2f})\")"
   ]
  },
  {
   "cell_type": "markdown",
   "id": "0e95adc3-92d6-4b7a-9731-42f7f3207988",
   "metadata": {},
   "source": [
    "# Box Plots"
   ]
  },
  {
   "cell_type": "code",
   "execution_count": 22,
   "id": "7eedfedb-4290-4187-9dbf-e87552be9ae8",
   "metadata": {},
   "outputs": [],
   "source": [
    "def merge_df(match):\n",
    "    treated_id = match[0].astype(int)\n",
    "    control_id = match[1].astype(int)\n",
    "\n",
    "    features_b = ['pain_b', 'urgency_b', 'frequency_b']\n",
    "    features = ['pain', 'urgency', 'frequency']\n",
    "    \n",
    "    baseline_t = baseline[baseline['patient_id'] == treated_id][features_b]\n",
    "    baseline_t = baseline_t.rename(columns={\"pain_b\": \"pain\", \"urgency_b\": \"urgency\", \"frequency_b\": \"frequency\"})\n",
    "    baseline_c = baseline[baseline['patient_id'] == control_id][features_b]\n",
    "    baseline_c = baseline_c.rename(columns={\"pain_b\": \"pain\", \"urgency_b\": \"urgency\", \"frequency_b\": \"frequency\"})\n",
    "\n",
    "    # At Treatment Data\n",
    "    treatment_t = evaluations[(evaluations['patient_id'] == treated_id) & (evaluations['time_treated'] == evaluations['time_since_entry'])][features + ['time_since_entry']]\n",
    "    time_since_entry = treatment_t['time_since_entry'].iloc[0] if not treatment_t['time_since_entry'].empty else 0\n",
    "\n",
    "    if time_since_entry == 0:\n",
    "        print(f\"⚠ Warning: No treatment data found for patient {treated_id}. Skipping match.\")\n",
    "        return ()\n",
    "    \n",
    "    treatment_t = treatment_t.drop('time_since_entry', axis=1)\n",
    "    treatment_c = evaluations[(evaluations['patient_id'] == control_id) & (evaluations['time_since_entry'] == time_since_entry)][features]\n",
    "\n",
    "    # 3 Months After Treatment\n",
    "    time_since_entry += 3\n",
    "    three_mon_t = evaluations[(evaluations['patient_id'] == treated_id) & (evaluations['time_since_entry'] == time_since_entry)][features]\n",
    "    three_mon_c = evaluations[(evaluations['patient_id'] == control_id) & (evaluations['time_since_entry'] == time_since_entry)][features]\n",
    "\n",
    "    # 6 Months After Treatment\n",
    "    time_since_entry += 3\n",
    "    six_mon_t = evaluations[(evaluations['patient_id'] == treated_id) & (evaluations['time_since_entry'] == time_since_entry)][features]\n",
    "    six_mon_c = evaluations[(evaluations['patient_id'] == control_id) & (evaluations['time_since_entry'] == time_since_entry)][features]\n",
    "    \n",
    "    return (\n",
    "        baseline_t,\n",
    "        baseline_c,\n",
    "        treatment_t,\n",
    "        treatment_c,\n",
    "        three_mon_t,\n",
    "        three_mon_c,\n",
    "        six_mon_t,\n",
    "        six_mon_c,\n",
    "    )"
   ]
  },
  {
   "cell_type": "code",
   "execution_count": 23,
   "id": "a3a9ef60-6403-4959-8ff2-cca8557a91dc",
   "metadata": {},
   "outputs": [
    {
     "data": {
      "text/plain": [
       "(    pain  urgency  frequency\n",
       " 88     6        1          4,\n",
       "      pain  urgency  frequency\n",
       " 173     3        1          6,\n",
       "       pain  urgency  frequency\n",
       " 1417     9        4          4,\n",
       "       pain  urgency  frequency\n",
       " 2777     1        5          7,\n",
       "       pain  urgency  frequency\n",
       " 1418     5        9          0,\n",
       "       pain  urgency  frequency\n",
       " 2778     1        5          0,\n",
       "       pain  urgency  frequency\n",
       " 1419     9        9          3,\n",
       "       pain  urgency  frequency\n",
       " 2779     1        3          0)"
      ]
     },
     "execution_count": 23,
     "metadata": {},
     "output_type": "execute_result"
    }
   ],
   "source": [
    "merge_df(final_matched_pairs[1])"
   ]
  },
  {
   "cell_type": "code",
   "execution_count": 120,
   "id": "f5b79b57-8fc6-45e5-abec-18bff582324d",
   "metadata": {},
   "outputs": [
    {
     "name": "stdout",
     "output_type": "stream",
     "text": [
      "⚠ Warning: No treatment data found for patient 192. Skipping match.\n",
      "⚠ Warning: No treatment data found for patient 127. Skipping match.\n",
      "⚠ Warning: No treatment data found for patient 9. Skipping match.\n",
      "⚠ Warning: No treatment data found for patient 161. Skipping match.\n",
      "⚠ Warning: No treatment data found for patient 145. Skipping match.\n",
      "⚠ Warning: No treatment data found for patient 96. Skipping match.\n",
      "⚠ Warning: No treatment data found for patient 198. Skipping match.\n",
      "⚠ Warning: No treatment data found for patient 179. Skipping match.\n",
      "⚠ Warning: No treatment data found for patient 7. Skipping match.\n",
      "⚠ Warning: No treatment data found for patient 85. Skipping match.\n"
     ]
    }
   ],
   "source": [
    "dataframes = [pd.DataFrame() for _ in range(12)]\n",
    "\n",
    "treatment_index = 2\n",
    "month_index = 4\n",
    "\n",
    "for match in final_matched_pairs:\n",
    "    data = merge_df(match)\n",
    "\n",
    "    if len(data) == 0:\n",
    "        continue\n",
    "\n",
    "    for i in range(len(dataframes) - 4): \n",
    "        dataframes[i] = pd.concat([dataframes[i], data[i]])\n",
    "\n",
    "    for i in range(4):\n",
    "        index = len(dataframes) - 4 + i\n",
    "    \n",
    "        df_month = data[month_index + i]\n",
    "        treatment_i = treatment_index + (i // 2)\n",
    "        df_treatment = data[treatment_i]\n",
    "    \n",
    "        # Ensure columns are compatible\n",
    "        common_cols = df_month.columns.intersection(df_treatment.columns)\n",
    "        df_month = df_month[common_cols]\n",
    "        df_treatment = df_treatment[common_cols]\n",
    "    \n",
    "        # Subtract values positionally and retain df_month's index\n",
    "        result_values = df_month.values - df_treatment.values\n",
    "        result = pd.DataFrame(result_values, columns=common_cols, index=df_month.index)\n",
    "    \n",
    "        dataframes[index] = pd.concat([dataframes[index], result])\n",
    "        \n",
    "\n",
    "for index in range(len(dataframes)):\n",
    "    dataframes[index] = dataframes[index].dropna()"
   ]
  },
  {
   "cell_type": "code",
   "execution_count": 121,
   "id": "49b3ae6e-6c62-4430-bb18-e94db6676482",
   "metadata": {},
   "outputs": [],
   "source": [
    "def display_boxplots(column, title):\n",
    "    global dataframes\n",
    "    \n",
    "    # Create the necessary subplots (adjust number of rows and columns based on data)\n",
    "    num_rows = len(dataframes) // 4\n",
    "    fig, axes = plt.subplots(num_rows, 2, figsize=(10, 5 * num_rows))\n",
    "    \n",
    "    # Flatten the axes for easy indexing\n",
    "    axes = axes.flatten()\n",
    "\n",
    "    box_titles = [\n",
    "        'Baseline',\n",
    "        'At Treatment',\n",
    "        '3 Months after Treatment',\n",
    "        '6 Months after Treatment',\n",
    "        'Difference (3 mos posttreatment)',\n",
    "        'Difference (6 mos posttreatment)'\n",
    "    ]\n",
    "\n",
    "    # Iterate through each dataframe pair (i.e., treatment vs. control)\n",
    "    for i in range(0, len(dataframes), 2):    \n",
    "        # Skip if the current dataframe is empty\n",
    "        if dataframes[i].empty or dataframes[i+1].empty:\n",
    "            continue\n",
    "        \n",
    "        # Plot boxplot on corresponding subplot axes\n",
    "        axes[i // 2].boxplot([dataframes[i][column].dropna(), dataframes[i + 1][column].dropna()])\n",
    "        \n",
    "        # Set titles and labels\n",
    "        axes[i // 2].set_title(box_titles[i // 2])\n",
    "        axes[i // 2].set_ylabel(title)\n",
    "        axes[i // 2].set_xticklabels(['Never/Later Treated', 'Treatment'])  # Customize the x-axis labels\n",
    "\n",
    "    # Adjust space between subplots for better layout\n",
    "    plt.subplots_adjust(\n",
    "        wspace=0.5,\n",
    "        hspace=0.5\n",
    "    )\n",
    "\n",
    "    # Show the plots\n",
    "    plt.show()"
   ]
  },
  {
   "cell_type": "markdown",
   "id": "76b56738-50ec-44a4-8cab-9fbc54c3de71",
   "metadata": {},
   "source": [
    "# Pain Score"
   ]
  },
  {
   "cell_type": "code",
   "execution_count": 122,
   "id": "87b52ae5-5113-4dd9-aeb3-98956a1c8fe6",
   "metadata": {},
   "outputs": [
    {
     "data": {
      "image/png": "[encoded data removed]",
      "text/plain": [
       "<Figure size 1000x1500 with 6 Axes>"
      ]
     },
     "metadata": {},
     "output_type": "display_data"
    }
   ],
   "source": [
    "display_boxplots('pain', 'Pain Score')"
   ]
  },
  {
   "cell_type": "markdown",
   "id": "c7ec30e8-3662-4042-addd-5d62e140ea3b",
   "metadata": {},
   "source": [
    "# Urgency Score"
   ]
  },
  {
   "cell_type": "code",
   "execution_count": 118,
   "id": "297268b1-3366-4bbe-af00-14f8aa2f7b62",
   "metadata": {},
   "outputs": [
    {
     "data": {
      "image/png": "[encoded data removed]",
      "text/plain": [
       "<Figure size 1000x1500 with 6 Axes>"
      ]
     },
     "metadata": {},
     "output_type": "display_data"
    }
   ],
   "source": [
    "display_boxplots('urgency', 'Urgency Score')"
   ]
  },
  {
   "cell_type": "markdown",
   "id": "d5060bdf-7e5b-4382-8706-94d2da2689b9",
   "metadata": {},
   "source": [
    "# Nocturnal Frequency"
   ]
  },
  {
   "cell_type": "code",
   "execution_count": 119,
   "id": "e6a2856f-20c9-469c-a10f-31963245fdb0",
   "metadata": {},
   "outputs": [
    {
     "data": {
      "image/png": "[encoded data removed]",
      "text/plain": [
       "<Figure size 1000x1500 with 6 Axes>"
      ]
     },
     "metadata": {},
     "output_type": "display_data"
    }
   ],
   "source": [
    "display_boxplots('frequency', 'Nocturnal Frequency')"
   ]
  }
 ],
 "metadata": {
  "kernelspec": {
   "display_name": "Python 3 (ipykernel)",
   "language": "python",
   "name": "python3"
  },
  "language_info": {
   "codemirror_mode": {
    "name": "ipython",
    "version": 3
   },
   "file_extension": ".py",
   "mimetype": "text/x-python",
   "name": "python",
   "nbconvert_exporter": "python",
   "pygments_lexer": "ipython3",
   "version": "3.9.6"
  }
 },
 "nbformat": 4,
 "nbformat_minor": 5
}
