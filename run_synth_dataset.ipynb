{
 "cells": [
  {
   "cell_type": "code",
   "execution_count": 7,
   "id": "de78e8af-3811-4d11-af68-83c479b7a7b8",
   "metadata": {},
   "outputs": [],
   "source": [
    "import pandas as pd\n",
    "import numpy as np\n",
    "\n",
    "patient_count = 200;\n",
    "interval = 3\n",
    "eval_years = 4\n",
    "\n",
    "np.random.seed(21)\n",
    "\n",
    "# Simulating Evaluation upon entry into the database\n",
    "baseline = pd.DataFrame({\n",
    "    'patient_id': np.arange(0, patient_count),\n",
    "    'pain_b': np.random.randint(0, 10, patient_count),\n",
    "    'urgency_b': np.random.randint(0, 10, patient_count),\n",
    "    'frequency_b': np.random.randint(0, 10, patient_count),\n",
    "})\n",
    "    \n",
    "\n",
    "eval_columns = ['patient_id', 'pain', 'urgency', 'frequency', 'time_since_entry', 'time_treated', 'treated']\n",
    "evaluations = pd.DataFrame(columns=eval_columns)\n",
    "for p_id in range(patient_count):\n",
    "    treatment_time = np.random.choice(list(np.arange(3, eval_years * 12 + 1, 3)) + [None])\n",
    "    \n",
    "    for month in range(3, eval_years * 12 + 1, 3):\n",
    "        pain = np.random.randint(0, 10, 1)\n",
    "        urgency = np.random.randint(0, 10, 1)\n",
    "        frequency = np.random.randint(0, 10, 1)\n",
    "        time_since_entry = month\n",
    "\n",
    "        if treatment_time == None or month < treatment_time:\n",
    "            time_treated = None\n",
    "            treated = False\n",
    "        else:\n",
    "            time_treated = treatment_time\n",
    "            treated = True\n",
    "\n",
    "        evaluations = pd.concat([evaluations, pd.DataFrame({\n",
    "            'patient_id': p_id,\n",
    "            'pain': pain,\n",
    "            'urgency': urgency,\n",
    "            'frequency': frequency,\n",
    "            'time_since_entry': month,\n",
    "            'time_treated': time_treated,\n",
    "            'treated': treated\n",
    "        })])\n",
    "\n",
    "baseline.to_csv('baseline_dataset.csv', index=False)\n",
    "evaluations.to_csv('evaluations_dataset.csv', index=False)"
   ]
  },
  {
   "cell_type": "code",
   "execution_count": null,
   "id": "11f7f2b4-dc9f-4947-bc1e-e8f706f3161b",
   "metadata": {},
   "outputs": [],
   "source": []
  }
 ],
 "metadata": {
  "kernelspec": {
   "display_name": "Python 3 (ipykernel)",
   "language": "python",
   "name": "python3"
  },
  "language_info": {
   "codemirror_mode": {
    "name": "ipython",
    "version": 3
   },
   "file_extension": ".py",
   "mimetype": "text/x-python",
   "name": "python",
   "nbconvert_exporter": "python",
   "pygments_lexer": "ipython3",
   "version": "3.9.6"
  }
 },
 "nbformat": 4,
 "nbformat_minor": 5
}
