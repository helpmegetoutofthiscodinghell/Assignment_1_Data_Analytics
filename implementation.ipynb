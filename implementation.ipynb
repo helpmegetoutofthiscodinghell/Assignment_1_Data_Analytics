{
 "cells": [
  {
   "cell_type": "markdown",
   "id": "46a53d19-7d16-41fb-8528-2570f427f6ac",
   "metadata": {},
   "source": [
    "# Balanced Risk Set Matching: Implementation"
   ]
  },
  {
   "cell_type": "markdown",
   "id": "7dd5021b-daa9-43e8-9310-751fc72df18d",
   "metadata": {},
   "source": [
    "## Notations Used\n",
    "\n",
    "| Notation/Variable | Description | Section |\n",
    "| --- | --- | ---|\n",
    "| $T_m$ | Time when patient $m$ received treatment. If $T_m$ = $\\inf$, the patient was not treated. | 1.2 (Risk Set Matching) |\n",
    "| $Y_i(t)$ | Observed symptoms (e.g., pain, urgency) of patient $i$ at time $t$ | 1.2 (Risk Set Matching) |\n",
    "| SymptomHistory(T) | Aggregated symptom history up to time $T$. | 1.2 (Risk Set Matching) |\n",
    "| $\\mathcal{A}$ | Set of all patients included in the study | 2.1 (Optimal Balanced Matching) |\n",
    "| $\\mathcal{T}$ | Subset of treated patients in $\\mathcal{A}$ | 2.1 (Optimal Balanced Matching) | \n",
    "| $\\mathcal{A}$ - $\\mathcal{T}$ | Subset of controls in $\\mathcal{A}$ | 2.1 (Optimal Balanced Matching) |\n",
    "| $\\mathcal{E}$ | Set of all possible edges $\\mathcal{e}$ |  2.1 (Optimal Balanced Matching) |\n",
    "| $\\mathcal{e}$ = ($\\alpha_p$, $\\alpha_q$) | An edge connecting a treated patient $\\alpha_p$ with a potential control $\\alpha_q$ | 2.1 (Optimal Balanced Matching) |\n",
    "| $\\delta_e$ | Distance between two patients connected by edge $\\mathcal{e}$, often measured using Mahalanobis distance. | 2.1 (Optimal Balanced Matching) |\n",
    "| $S$ | Number of matched pairs. | 2.1 (Optimal Balanced Matching) |\n",
    "| $M$ | Set of matched pairs $S\\subset\\mathcal{E}$ | 2.1 (Optimal Balanced Matching) |\n",
    "| $B_{pk},B_{ek}$ | Binary variables representing attributes (e.g., symptoms or covariates) for treated/control patients. | 2.2 (Balanced Pair Matching) |\n",
    "| $g_k^+,g_k^-$ | Gap variables indicating positive or negative imbalance in binary variables. | Appendix |\n",
    "| $\\mathcal{L}_t(a)$ | Risk set: Patients with observed covariates $a$ at time $t$. | 4.3 (Matching on Observed Histories |\n",
    "\n",
    "will continue later..."
   ]
  },
  {
   "cell_type": "markdown",
   "id": "3a5a19e3-348c-4a25-b52d-2ae3d852769a",
   "metadata": {},
   "source": []
  }
 ],
 "metadata": {
  "kernelspec": {
   "display_name": "Python 3 (ipykernel)",
   "language": "python",
   "name": "python3"
  },
  "language_info": {
   "codemirror_mode": {
    "name": "ipython",
    "version": 3
   },
   "file_extension": ".py",
   "mimetype": "text/x-python",
   "name": "python",
   "nbconvert_exporter": "python",
   "pygments_lexer": "ipython3",
   "version": "3.9.6"
  }
 },
 "nbformat": 4,
 "nbformat_minor": 5
}
